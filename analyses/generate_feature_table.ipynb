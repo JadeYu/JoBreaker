{
 "cells": [
  {
   "cell_type": "code",
   "execution_count": null,
   "metadata": {
    "collapsed": false
   },
   "outputs": [],
   "source": [
    "import pandas as pd\n",
    "import numpy as np\n",
    "import text2feature as t2f"
   ]
  },
  {
   "cell_type": "code",
   "execution_count": null,
   "metadata": {
    "collapsed": false
   },
   "outputs": [],
   "source": [
    "#Read in data\n",
    "df = pd.read_csv(\"../../data/All_Data.csv\", index_col = 0)\n",
    "df.shape"
   ]
  },
  {
   "cell_type": "code",
   "execution_count": null,
   "metadata": {
    "collapsed": true
   },
   "outputs": [],
   "source": [
    "#Filter data\n",
    "df = df[df[\"jobtitle\"] != 'Machine Learning']\n",
    "#df = df[df[\"jobtitle\"] != 'Data Architect']\n",
    "#df = df[df[\"jobtitle\"] != 'Data Analyst']\n",
    "#df = df[df[\"jobtitle\"] != 'Data Engineer']"
   ]
  },
  {
   "cell_type": "code",
   "execution_count": null,
   "metadata": {
    "collapsed": false,
    "scrolled": false
   },
   "outputs": [],
   "source": [
    "#Get tf-idf features and write into a csv file\n",
    "wft99 = t2f.text_feature(df,nfeature=10000,method = 'tfidf', thres = 0.99, noun=False, titleoff=True)\n",
    "print(wft99.shape)\n",
    "wft99.to_csv(\"../metrics/All_tfidf_features_99_all_titleoff.csv\")"
   ]
  },
  {
   "cell_type": "code",
   "execution_count": null,
   "metadata": {
    "collapsed": false
   },
   "outputs": [],
   "source": [
    "#Get conditional probability features and write into a csv file\n",
    "wft_cond = t2f.text_feature(df,nfeature=10000,method = 'conditional', noun=False)\n",
    "print(wft_cond.shape)\n",
    "wft_cond.to_csv(\"../metrics/All_cond_features_all.csv\")"
   ]
  },
  {
   "cell_type": "code",
   "execution_count": null,
   "metadata": {
    "collapsed": true
   },
   "outputs": [],
   "source": []
  }
 ],
 "metadata": {
  "kernelspec": {
   "display_name": "Python 3",
   "language": "python",
   "name": "python3"
  },
  "language_info": {
   "codemirror_mode": {
    "name": "ipython",
    "version": 3
   },
   "file_extension": ".py",
   "mimetype": "text/x-python",
   "name": "python",
   "nbconvert_exporter": "python",
   "pygments_lexer": "ipython3",
   "version": "3.5.1"
  }
 },
 "nbformat": 4,
 "nbformat_minor": 0
}
