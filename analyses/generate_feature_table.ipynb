{
 "cells": [
  {
   "cell_type": "code",
   "execution_count": null,
   "metadata": {
    "collapsed": false
   },
   "outputs": [],
   "source": [
    "import pandas as pd\n",
    "import numpy as np\n",
    "import text2feature as t2f"
   ]
  },
  {
   "cell_type": "code",
   "execution_count": null,
   "metadata": {
    "collapsed": false
   },
   "outputs": [],
   "source": [
    "df = pd.read_csv(\"../../data/Data_All.csv\", index_col = 0)\n",
    "df.head()"
   ]
  },
  {
   "cell_type": "code",
   "execution_count": null,
   "metadata": {
    "collapsed": true
   },
   "outputs": [],
   "source": [
    "df = df[df[\"jobtitle\"] != 'Machine Learning']\n",
    "#df = df[df[\"jobtitle\"] != 'Data Architect']\n",
    "#df = df[df[\"jobtitle\"] != 'Data Analyst']\n",
    "#df = df[df[\"jobtitle\"] != 'Data Engineer']"
   ]
  },
  {
   "cell_type": "code",
   "execution_count": null,
   "metadata": {
    "collapsed": false
   },
   "outputs": [],
   "source": [
    "wft99 = t2f.text_feature(df,nfeature=10000,method = 'tfidf', thres = 0.99, noun=False)\n",
    "print(wft99.shape)\n",
    "wft99.to_csv(\"../metrics/All_tfidf_features_99.csv\")"
   ]
  },
  {
   "cell_type": "code",
   "execution_count": null,
   "metadata": {
    "collapsed": false
   },
   "outputs": [],
   "source": [
    "#wftn = t2f.text_feature(df,nfeature=500,method = 'tfidf', thres = 0.95, noun=True)\n",
    "#print(wftn.shape)\n",
    "#wftn.to_csv(\"test/tfidf_features_noun_95.csv\")\n",
    "\n",
    "#wft = t2f.text_feature(df,nfeature=500,method = 'tfidf', thres = 0.95, noun=False)\n",
    "#print(wft.shape)\n",
    "#wft.to_csv(\"test/tfidf_features_all_95.csv\")\n",
    "\n",
    "wftn99 = t2f.text_feature(df,nfeature=10000,method = 'tfidf', thres = 0.99, noun=True)\n",
    "print(wftn99.shape)\n",
    "wftn99.to_csv(\"test/tfidf_features_noun_99.csv\")\n",
    "\n",
    "wft99 = t2f.text_feature(df,nfeature=10000,method = 'tfidf', thres = 0.99, noun=False)\n",
    "print(wft99.shape)\n",
    "wft99.to_csv(\"test/tfidf_features_all_99.csv\")\n",
    "\n",
    "wfcn = t2f.text_feature(df,nfeature=10000,method = 'count', thres = 0.95, noun=True)\n",
    "print(wfcn.shape)\n",
    "wfcn.to_csv(\"test/count_features_noun.csv\")\n",
    "\n",
    "wfc = t2f.text_feature(df,nfeature=10000,method = 'count', thres = 0.95, noun=False)\n",
    "print(wfc.shape)\n",
    "wfc.to_csv(\"test/count_features_all.csv\")"
   ]
  }
 ],
 "metadata": {
  "kernelspec": {
   "display_name": "Python 3",
   "language": "python",
   "name": "python3"
  },
  "language_info": {
   "codemirror_mode": {
    "name": "ipython",
    "version": 3
   },
   "file_extension": ".py",
   "mimetype": "text/x-python",
   "name": "python",
   "nbconvert_exporter": "python",
   "pygments_lexer": "ipython3",
   "version": "3.5.1"
  }
 },
 "nbformat": 4,
 "nbformat_minor": 0
}
