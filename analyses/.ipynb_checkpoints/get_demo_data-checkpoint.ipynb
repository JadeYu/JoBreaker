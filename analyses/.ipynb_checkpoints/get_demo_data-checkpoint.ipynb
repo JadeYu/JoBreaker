{
 "cells": [
  {
   "cell_type": "code",
   "execution_count": null,
   "metadata": {
    "collapsed": false
   },
   "outputs": [],
   "source": [
    "import pandas as pd\n",
    "from indeed import IndeedClient\n",
    "import indeed_query as iq\n",
    "secret = pd.read_csv(\"../../secret.csv\", index_col=0).iloc[0,0]\n",
    "client = IndeedClient(str(secret))"
   ]
  },
  {
   "cell_type": "code",
   "execution_count": null,
   "metadata": {
    "collapsed": true
   },
   "outputs": [],
   "source": [
    "#create a list of cities to look\n",
    "big_cities = [\"San Francisco, CA\", \"Boston, MA\", \"Seattle, WA\", \"Washington, DC\", \"Atlanta, GA\", \"Cincinnati, OH\", \n",
    "             \"St. Louis, MO\", \"Austin, TX\", \"Tampa, FL\", \"Pittsburgh, PA\"]\n",
    "small_cities = [\"Cambridge, MA\", \"Santa Clara, CA\", \"Sunnyvale, CA\", \"Bellevue, WA\", \"Arlington, VA\", \"Hartford, CT\",\n",
    "               \"Irvine, CA\", \"Stamford, CT\", \"Irving, TX\", \"Pasadena, CA\"]\n",
    "big_towns = [\"Palo Alto, CA\", \"Redmond, WA\", \"Mountain View, CA\", \"Herndon, VA\", \"Menlo Park, CA\", \"San Carlos, CA\",\n",
    "            \"Redwood City, CA\", \"Fairfax, VA\", \"Laurel, MD\", \"San Ramon, CA\"]\n",
    "others = [\"Berkeley, CA\", \"Oakland, CA\", \"Denver, CO\", \"Charlotte, NC\", \"Raleigh, NC\", \"Portland, OR\", \"San Antonio, TX\", \n",
    "          \"Riverside, CA\", 'Salt Lake City, UT', 'Orlando, FL','Nashville, TN', 'Dallas, TX', 'Kansas City, MO', \n",
    "                \"Fort Lauderdale, FL\", \"Knoxville, TN\", \"New York, NY\", \"Richmond, VA\", \"Round Rock, TX\",\n",
    "               \"Lafayette, LA\", \"Ann Arbor, MI\", \"Franklin, TN\", \"San Diego, CA\", \"Des Moines, IA\", \n",
    "                \"Fremont, CA\", \"Indianapolis, IN\", \"Newark, NJ\", \"Las Vegas, NV\", \"Wilmington, NC\",\n",
    "               \"Green Bay, WI\", \"Erie, PA\"]\n",
    "all_cities = big_cities+small_cities+big_towns+others\n",
    "#a list of job titles to look at\n",
    "title_list = [\"Data Scientist\", \"Data Engineer\", \"Data Analyst\", \"Data Architect\", \n",
    "              \"Product Manager\", \"Database Administrator\", \"Machine Learning\", \"Business Analyst\"]\n",
    "title_abbr = [\"DS\", \"DE\", \"DA\", \"DAR\", \"PM\", \"DAD\", \"ML\", \"BA\"]"
   ]
  },
  {
   "cell_type": "code",
   "execution_count": null,
   "metadata": {
    "collapsed": false
   },
   "outputs": [],
   "source": [
    "title_abbr[:2]"
   ]
  },
  {
   "cell_type": "code",
   "execution_count": null,
   "metadata": {
    "collapsed": false
   },
   "outputs": [],
   "source": [
    "#get data from all cities\n",
    "iq.API2csv(client, all_cities[:2], title_list[:2], title_abbr[:2], '../../data/')\n",
    "#do not rerun this"
   ]
  },
  {
   "cell_type": "code",
   "execution_count": null,
   "metadata": {
    "collapsed": false
   },
   "outputs": [],
   "source": [
    "#merge all files into one big document\n",
    "filepath = '../../data/'+\"DS\"+'_'+\"San Francisco\"+'.csv'\n",
    "df = pd.read_csv(filepath, index_col=0)\n",
    "for city in all_cities:\n",
    "    for abbr in title_abbr:\n",
    "        if (city not \"San Francisco\") or (abbr not \"DS\"):\n",
    "            try:\n",
    "                filepath = 'data/'+abbr+'_'+city.split(\",\")[0]+'.csv'\n",
    "                df1 = pd.read_csv(filepath, index_col=0)\n",
    "                df = df.append(df1, ignore_index=True)\n",
    "            except:\n",
    "                print(\"{} in {} not found\".format(abbr, city))\n",
    "        \n",
    "df.shape"
   ]
  },
  {
   "cell_type": "code",
   "execution_count": null,
   "metadata": {
    "collapsed": false
   },
   "outputs": [],
   "source": [
    "df.drop_duplicates(inplace=True, keep = False)\n",
    "df.shape"
   ]
  },
  {
   "cell_type": "code",
   "execution_count": null,
   "metadata": {
    "collapsed": true
   },
   "outputs": [],
   "source": [
    "filepath = '../../data/All_Data.csv'\n",
    "df.to_csv(filepath)"
   ]
  }
 ],
 "metadata": {
  "kernelspec": {
   "display_name": "Python 3",
   "language": "python",
   "name": "python3"
  },
  "language_info": {
   "codemirror_mode": {
    "name": "ipython",
    "version": 3
   },
   "file_extension": ".py",
   "mimetype": "text/x-python",
   "name": "python",
   "nbconvert_exporter": "python",
   "pygments_lexer": "ipython3",
   "version": "3.5.1"
  }
 },
 "nbformat": 4,
 "nbformat_minor": 0
}
