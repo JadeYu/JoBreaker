{
 "cells": [
  {
   "cell_type": "code",
   "execution_count": null,
   "metadata": {
    "collapsed": true
   },
   "outputs": [],
   "source": [
    "from matplotlib import pyplot as plt\n",
    "from sklearn.manifold import TSNE\n",
    "import pandas as pd\n",
    "import numpy as np\n",
    "%matplotlib inline"
   ]
  },
  {
   "cell_type": "code",
   "execution_count": null,
   "metadata": {
    "collapsed": false
   },
   "outputs": [],
   "source": [
    "df = pd.read_csv(\"../metrics/All_tfidf_features_99.csv\", index_col=0)\n",
    "df.head()"
   ]
  },
  {
   "cell_type": "code",
   "execution_count": null,
   "metadata": {
    "collapsed": false
   },
   "outputs": [],
   "source": [
    "#df = pd.read_csv(\"topic_features.csv\", index_col=0)\n",
    "#df.head()\n",
    "#no patterns!"
   ]
  },
  {
   "cell_type": "code",
   "execution_count": null,
   "metadata": {
    "collapsed": true
   },
   "outputs": [],
   "source": [
    "#reduce dimension of data to 2D using t-sne algorithm\n",
    "model = TSNE(n_components=2, random_state=0, perplexity = 30, n_iter=5000)\n",
    "df = df[df[\"jobtitle\"] != 'Data Analyst']\n",
    "df = df[df[\"jobtitle\"] != 'Data Architect']\n",
    "df = df[df[\"jobtitle\"] != 'Data Engineer']\n",
    "df = df[df[\"jobtitle\"] != 'Machine Learning']\n",
    "points = model.fit_transform(df.iloc[:,3:]) "
   ]
  },
  {
   "cell_type": "code",
   "execution_count": null,
   "metadata": {
    "collapsed": false
   },
   "outputs": [],
   "source": [
    "# plot the result\n",
    "vis_x = points[:, 0]\n",
    "vis_y = points[:, 1]\n",
    "\n",
    "labels = list(df['jobtitle'])\n",
    "data = pd.DataFrame()\n",
    "data['x'] = vis_x\n",
    "data['y'] = vis_y\n",
    "data['labels'] = labels"
   ]
  },
  {
   "cell_type": "code",
   "execution_count": null,
   "metadata": {
    "collapsed": false
   },
   "outputs": [],
   "source": [
    "labels = list(set(df['jobtitle']))\n",
    "colors = ['red', 'yellow','blue',  'green', 'gray', 'pink',  'purple']\n",
    "for i in range(len(labels)):\n",
    "    plotting = data.loc[data['labels']==labels[i]]\n",
    "    plt.scatter(plotting['x'], plotting['y'],c = [colors[i]]*plotting.shape[0],label=labels[i])\n",
    "#ax = plt.gca()\n",
    "#plt.colorbar(ticks=range(5))\n",
    "#plt.clim(-0.5, 4.5)\n",
    "plt.axis('off')\n",
    "plt.xlim([-20, 30])\n",
    "plt.ylim([-20, 20])\n",
    "plt.legend(bbox_to_anchor=(1.4, 1.05))\n",
    "plt.show()"
   ]
  },
  {
   "cell_type": "code",
   "execution_count": null,
   "metadata": {
    "collapsed": false
   },
   "outputs": [],
   "source": [
    "confusion = pd.read_csv(\"../metrics/confusion_matrix_all.csv\", index_col=0)\n",
    "confusion"
   ]
  },
  {
   "cell_type": "code",
   "execution_count": null,
   "metadata": {
    "collapsed": false
   },
   "outputs": [],
   "source": [
    "array = [list(confusion.iloc[i,:]) for i in range(confusion.shape[0])]"
   ]
  },
  {
   "cell_type": "code",
   "execution_count": null,
   "metadata": {
    "collapsed": false
   },
   "outputs": [],
   "source": [
    "import seaborn as sn\n",
    "import pandas as pd\n",
    "import matplotlib.pyplot as plt\n",
    "df_cm = pd.DataFrame(array, index = list(confusion.columns),\n",
    "                  columns = list(confusion.columns))\n",
    "plt.figure(figsize = (10,7))\n",
    "sn.heatmap(df_cm, annot=True)"
   ]
  },
  {
   "cell_type": "code",
   "execution_count": null,
   "metadata": {
    "collapsed": false
   },
   "outputs": [],
   "source": [
    "pd.DataFrame(array, index = list(confusion.columns),\n",
    "                  columns = list(confusion.columns))"
   ]
  },
  {
   "cell_type": "code",
   "execution_count": null,
   "metadata": {
    "collapsed": true
   },
   "outputs": [],
   "source": []
  }
 ],
 "metadata": {
  "kernelspec": {
   "display_name": "Python 3",
   "language": "python",
   "name": "python3"
  },
  "language_info": {
   "codemirror_mode": {
    "name": "ipython",
    "version": 3
   },
   "file_extension": ".py",
   "mimetype": "text/x-python",
   "name": "python",
   "nbconvert_exporter": "python",
   "pygments_lexer": "ipython3",
   "version": "3.5.1"
  }
 },
 "nbformat": 4,
 "nbformat_minor": 0
}
